{
 "cells": [
  {
   "cell_type": "code",
   "execution_count": null,
   "metadata": {},
   "outputs": [],
   "source": [
    "%matplotlib inline\n",
    "%reload_ext autoreload\n",
    "%autoreload 2"
   ]
  },
  {
   "cell_type": "code",
   "execution_count": null,
   "metadata": {},
   "outputs": [],
   "source": [
    "if (False):\n",
    "    import tarfile\n",
    "    tar = tarfile.open(\"car_ims.gz\")\n",
    "    tar.extractall()\n",
    "    tar.close()"
   ]
  },
  {
   "cell_type": "markdown",
   "metadata": {},
   "source": [
    "# Imports"
   ]
  },
  {
   "cell_type": "code",
   "execution_count": null,
   "metadata": {},
   "outputs": [],
   "source": [
    "import time\n",
    "from tqdm import tqdm\n",
    "import gc\n",
    "import random\n",
    "import os\n",
    "from shutil import move\n",
    "from pathlib import Path\n",
    "from matplotlib import pyplot as plt"
   ]
  },
  {
   "cell_type": "code",
   "execution_count": null,
   "metadata": {},
   "outputs": [],
   "source": [
    "gc.collect()"
   ]
  },
  {
   "cell_type": "code",
   "execution_count": null,
   "metadata": {},
   "outputs": [],
   "source": [
    "if (False):\n",
    "    dataDir = 'data/irlFort/'\n",
    "    imageNames = open('red-cars.txt').readlines()\n",
    "    imageNames = [x.strip() for x in imageNames]\n",
    "    #print(len(imageNames))\n",
    "    #print(imageNames)\n",
    "    \n",
    "    for imageName in imageNames:\n",
    "        move(dataDir+'car_ims/'+imageName, dataDir+'trainA/'+imageName)"
   ]
  },
  {
   "cell_type": "code",
   "execution_count": null,
   "metadata": {},
   "outputs": [],
   "source": [
    "if (False):\n",
    "    dataDir = 'data/irlFort/'\n",
    "    imageNames = open('blue-cars.txt').readlines()\n",
    "    imageNames = [x.strip() for x in imageNames]\n",
    "    #print(len(imageNames))\n",
    "    #print(imageNames)\n",
    "    \n",
    "    for imageName in imageNames:\n",
    "        try:\n",
    "            move(dataDir+'car_ims/'+imageName, dataDir+'trainB/'+imageName)\n",
    "        except:\n",
    "            pass"
   ]
  },
  {
   "cell_type": "code",
   "execution_count": null,
   "metadata": {},
   "outputs": [],
   "source": [
    "if (False):\n",
    "    dataDir = 'data/irlFort/'\n",
    "    imageNames = os.listdir(dataDir+'trainA')\n",
    "    random.shuffle(imageNames)\n",
    "    for imageName in imageNames[0:2000]:\n",
    "        os.remove(dataDir+'trainA/'+imageName)"
   ]
  },
  {
   "cell_type": "code",
   "execution_count": null,
   "metadata": {},
   "outputs": [],
   "source": [
    "if (False):\n",
    "    \n",
    "    data_dir = Path('data/irlFort/')\n",
    "    \n",
    "    imagesTrainA = list((data_dir/'trainA').iterdir())\n",
    "    imagesTrainB = list((data_dir/'trainB').iterdir())\n",
    "\n",
    "    random.shuffle(imagesTrainA)\n",
    "    random.shuffle(imagesTrainB)\n",
    "\n",
    "    for img in imagesTrainA[0:int(len(imagesTrainA)*0.2)]:\n",
    "        os.rename(img, data_dir/'testA'/img.name)\n",
    "\n",
    "    for img in imagesTrainB[0:int(len(imagesTrainB)*0.2)]:\n",
    "        os.rename(img, data_dir/'testB'/img.name)"
   ]
  },
  {
   "cell_type": "markdown",
   "metadata": {},
   "source": [
    "# Cycle GAN"
   ]
  },
  {
   "cell_type": "code",
   "execution_count": null,
   "metadata": {},
   "outputs": [],
   "source": [
    "from cgan.options.train_options import *\n",
    "from cgan.options.test_options import *"
   ]
  },
  {
   "cell_type": "code",
   "execution_count": null,
   "metadata": {},
   "outputs": [],
   "source": [
    "\n",
    "# ---------- Training ----------\n",
    "#opt = TrainOptions().parse(['--dataroot', 'data/irlFort', '--nThreads', '8', '--no_dropout',\n",
    "#                           '--niter', '30', '--niter_decay', '15', '--name', 'nodrop', '--gpu_ids', '0',\n",
    "#                            '--batchSize', '1'])\n",
    "\n",
    "#opt = TrainOptions().parse(['--dataroot', 'data/irlFort', '--nThreads', '8', '--no_dropout',\n",
    "#                           '--niter', '30', '--niter_decay', '0', '--name', 'nodrop', '--gpu_ids', '0',\n",
    "#                            '--batchSize', '1', '--continue_train', '--epoch_count', '30', '--which_epoch', '15'])\n",
    "\n",
    "\n",
    "# ---------- Testing ----------\n",
    "opt = TestOptions().parse(['--dataroot', 'data/red_car_imgs_01', '--nThreads', '8', '--no_dropout',\n",
    "                           '--which_direction', 'AtoB', '--name', 'nodrop', '--gpu_ids', '0',\n",
    "                            '--batchSize', '1', '--which_epoch', 'latest', '--serial_batches'])"
   ]
  },
  {
   "cell_type": "code",
   "execution_count": null,
   "metadata": {},
   "outputs": [],
   "source": [
    "from cgan.options.train_options import TrainOptions\n",
    "from cgan.data.data_loader import CreateDataLoader\n",
    "from cgan.models.models import create_model"
   ]
  },
  {
   "cell_type": "code",
   "execution_count": null,
   "metadata": {},
   "outputs": [],
   "source": [
    "data_loader = CreateDataLoader(opt)\n",
    "dataset = data_loader.load_data()\n",
    "dataset_size = len(data_loader)\n",
    "dataset_size"
   ]
  },
  {
   "cell_type": "code",
   "execution_count": null,
   "metadata": {},
   "outputs": [],
   "source": [
    "for data in dataset:\n",
    "    print(data['A'].shape)\n",
    "    break"
   ]
  },
  {
   "cell_type": "code",
   "execution_count": null,
   "metadata": {},
   "outputs": [],
   "source": [
    "model = create_model(opt)"
   ]
  },
  {
   "cell_type": "code",
   "execution_count": null,
   "metadata": {},
   "outputs": [],
   "source": [
    "def show_img(im, ax=None, figsize=None):\n",
    "    if not ax: fig,ax = plt.subplots(figsize=figsize)\n",
    "    ax.imshow(im)\n",
    "    ax.get_xaxis().set_visible(False)\n",
    "    ax.get_yaxis().set_visible(False)\n",
    "    return ax"
   ]
  },
  {
   "cell_type": "code",
   "execution_count": null,
   "metadata": {},
   "outputs": [],
   "source": [
    "outputNum = 1\n",
    "def show_grid(ims):\n",
    "    fig,axes = plt.subplots(2,3,figsize=(9,6))\n",
    "    for i,ax in enumerate(axes.flat): show_img(ims[i], ax);\n",
    "    fig.tight_layout()\n",
    "    \n",
    "    global outputNum\n",
    "    plt.savefig('outputs/output' + str(outputNum) + '.png')\n",
    "    outputNum += 1"
   ]
  },
  {
   "cell_type": "code",
   "execution_count": null,
   "metadata": {},
   "outputs": [],
   "source": [
    "def get_one(data):\n",
    "    model.set_input(data)\n",
    "    model.test()\n",
    "    return list(model.get_current_visuals().values())"
   ]
  },
  {
   "cell_type": "code",
   "execution_count": null,
   "metadata": {},
   "outputs": [],
   "source": [
    "def drawImgs():\n",
    "    test_ims = []\n",
    "    for i,o in enumerate(dataset):\n",
    "        if i>1:\n",
    "            break\n",
    "        test_ims.append(get_one(o))\n",
    "    for i in range(1):\n",
    "        show_grid(test_ims[i])"
   ]
  },
  {
   "cell_type": "code",
   "execution_count": null,
   "metadata": {},
   "outputs": [],
   "source": [
    "# --- Testing ---\n",
    "\n",
    "for i, data in enumerate(dataset):\n",
    "    model.set_input(data)\n",
    "    model.test()\n",
    "    myValues = list(model.get_current_visuals().values())\n",
    "    img_path = model.get_image_paths()\n",
    "    print('%04d: process image... %s' % (i, img_path))\n",
    "    \n",
    "    # 4th value for BtoA, 1st value for AtoB\n",
    "    plt.imshow(myValues[1])\n",
    "    plt.xticks([])\n",
    "    plt.yticks([])\n",
    "    \n",
    "    fName = Path(img_path[0]).name\n",
    "    plt.savefig(\"results/\" + fName)\n",
    "    \n",
    "    #show_grid(myValues)\n",
    "    #if (i == 1):\n",
    "        #break"
   ]
  },
  {
   "cell_type": "code",
   "execution_count": null,
   "metadata": {},
   "outputs": [],
   "source": [
    "if (False):\n",
    "\n",
    "    # --- Training ---\n",
    "    total_steps = 0\n",
    "\n",
    "    for epoch in range(opt.epoch_count, opt.niter + opt.niter_decay + 1):\n",
    "        epoch_start_time = time.time()\n",
    "        iter_data_time = time.time()\n",
    "        epoch_iter = 0\n",
    "\n",
    "        for i, data in tqdm(enumerate(dataset)):\n",
    "            iter_start_time = time.time()\n",
    "            if total_steps % opt.print_freq == 0: t_data = iter_start_time - iter_data_time\n",
    "            total_steps += opt.batchSize\n",
    "            epoch_iter += opt.batchSize\n",
    "            model.set_input(data)\n",
    "            model.optimize_parameters()\n",
    "\n",
    "            if total_steps % opt.display_freq == 0:\n",
    "                save_result = total_steps % opt.update_html_freq == 0\n",
    "                drawImgs()\n",
    "\n",
    "            if total_steps % opt.print_freq == 0:\n",
    "                errors = model.get_current_errors()\n",
    "                t = (time.time() - iter_start_time) / opt.batchSize\n",
    "\n",
    "            if total_steps % opt.save_latest_freq == 0:\n",
    "                print('saving the latest model (epoch %d, total_steps %d)' % (epoch, total_steps))\n",
    "                model.save('latest')\n",
    "\n",
    "            iter_data_time = time.time()\n",
    "        if epoch % opt.save_epoch_freq == 0:\n",
    "            print('saving the model at the end of epoch %d, iters %d' % (epoch, total_steps))\n",
    "            model.save('latest')\n",
    "            model.save(epoch)\n",
    "\n",
    "        print('End of epoch %d / %d \\t Time Taken: %d sec' %\n",
    "              (epoch, opt.niter + opt.niter_decay, time.time() - epoch_start_time))\n",
    "        model.update_learning_rate()\n",
    "        drawImgs()"
   ]
  }
 ],
 "metadata": {
  "kernelspec": {
   "display_name": "Python 3",
   "language": "python",
   "name": "python3"
  },
  "language_info": {
   "codemirror_mode": {
    "name": "ipython",
    "version": 3
   },
   "file_extension": ".py",
   "mimetype": "text/x-python",
   "name": "python",
   "nbconvert_exporter": "python",
   "pygments_lexer": "ipython3",
   "version": "3.7.3"
  }
 },
 "nbformat": 4,
 "nbformat_minor": 2
}
